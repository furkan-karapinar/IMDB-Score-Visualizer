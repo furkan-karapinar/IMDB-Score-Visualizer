{
 "cells": [
  {
   "cell_type": "code",
   "metadata": {
    "ExecuteTime": {
     "end_time": "2024-08-16T08:46:32.921708Z",
     "start_time": "2024-08-16T08:42:57.158606Z"
    }
   },
   "source": [
    "from fastapi import FastAPI\n",
    "import nest_asyncio\n",
    "import uvicorn\n",
    "import get\n",
    "import dneme\n",
    "from fastapi.responses import FileResponse\n",
    "\n",
    "# FastAPI uygulamasını oluşturun\n",
    "app = FastAPI()\n",
    "\n",
    "# Bir veri modeli tanımlayın\n",
    "\n",
    "# Ana sayfa rotası\n",
    "@app.get(\"/item/{film}\")\n",
    "def read_item(film: str):\n",
    "    return {\"message\": run(film)}\n",
    "\n",
    "@app.get(\"/\")\n",
    "async def get_front_page():\n",
    "    return FileResponse('index.html')\n",
    "\n",
    "\n",
    "@app.get(\"/bg.png\")\n",
    "async def get_bg():\n",
    "    return FileResponse('bg.png')\n",
    "\n",
    "def run(item_name):\n",
    "    #return dneme.get_item(item_name)  #Deneme veri\n",
    "    return get.get_item(item_name)\n",
    "\n",
    "nest_asyncio.apply()\n",
    "\n",
    "# Uvicorn sunucusunu başlatın\n",
    "uvicorn.run(app, host=\"127.0.0.1\", port=8000)\n",
    "\n"
   ],
   "outputs": [
    {
     "name": "stderr",
     "output_type": "stream",
     "text": [
      "INFO:     Started server process [7588]\n",
      "INFO:     Waiting for application startup.\n",
      "INFO:     Application startup complete.\n",
      "INFO:     Uvicorn running on http://127.0.0.1:8000 (Press CTRL+C to quit)\n"
     ]
    },
    {
     "name": "stdout",
     "output_type": "stream",
     "text": [
      "INFO:     127.0.0.1:54609 - \"GET / HTTP/1.1\" 200 OK\n",
      "Dizi Adı: The Boys\n",
      "\n",
      "5. Sezon bölümleri puanlanmamış\n",
      "\n",
      "[[['8.7', '8.5', '8.3', '8.7', '8.3', '8.1', '8.7', '9.1'], ['8.1', '7.7', '9.0', '8.0', '8.3', '8.9', '9.0', '9.4'], ['8.3', '8.6', '8.2', '8.9', '8.3', '9.6', '8.8', '8.2'], ['7.4', '7.1', '7.5', '8.9', '8.1', '7.5', '8.3', '9.1']], 'https://m.media-amazon.com/images/M/MV5BYTY2ZjYyNGUtZGVkZS00MDNhLWIwMjMtZDk4MmQ5ZWI0NTY4XkEyXkFqcGdeQXVyMTY3MDE5MDY1._V1_QL75_UY281_CR18,0,190,281_.jpg', 'The Boys', ' ⭐ 8.7/10']\n",
      "INFO:     127.0.0.1:54610 - \"GET /item/the%20boys HTTP/1.1\" 200 OK\n",
      "INFO:     127.0.0.1:54697 - \"GET / HTTP/1.1\" 200 OK\n",
      "INFO:     127.0.0.1:54697 - \"GET / HTTP/1.1\" 200 OK\n",
      "Dizi Adı: Taht Oyunları\n",
      "[[['9.3', '8.9', '8.6', '8.5', '8.6', '9.0', '9.1', '9.1', '8.9', '9.6', '9.4'], ['8.6', '8.3', '8.7', '8.6', '8.6', '8.9', '8.8', '8.6', '9.7', '9.3'], ['8.6', '8.5', '8.7', '9.5', '8.9', '8.7', '8.6', '8.9', '9.9', '9.1'], ['9.0', '9.7', '8.7', '8.7', '8.6', '9.7', '9.0', '9.7', '9.6', '9.6'], ['8.3', '8.3', '8.4', '8.5', '8.5', '7.9', '8.8', '9.8', '9.4', '9.1'], ['8.4', '9.2', '8.6', '9.0', '9.7', '8.3', '8.5', '8.3', '9.9', '9.9'], ['8.5', '8.8', '9.1', '9.7', '8.7', '9.0', '9.4'], ['7.6', '7.9', '7.5', '5.5', '5.9', '4.0']], 'https://m.media-amazon.com/images/M/MV5BN2IzYzBiOTQtNGZmMi00NDI5LTgxMzMtN2EzZjA1NjhlOGMxXkEyXkFqcGdeQXVyNjAwNDUxODI@._V1_QL75_UX190_CR0,2,190,281_.jpg', 'Taht Oyunları', ' ⭐ 9.2/10']\n",
      "INFO:     127.0.0.1:54698 - \"GET /item/game%20of%20thrones HTTP/1.1\" 200 OK\n",
      "Dizi Adı: Annenizle Nasıl Tanıştım\n",
      "[[['8.4', '8.0', '8.0', '7.8', '8.2', '7.9', '7.6', '8.0', '7.9', '9.1', '8.2', '8.0', '8.6', '8.1', '9.0', '7.7', '7.5', '8.3', '8.7', '7.7', '8.0', '8.7'], ['8.0', '8.1', '8.4', '8.7', '8.7', '8.0', '8.9', '7.8', '9.4', '8.0', '8.0', '8.0', '7.8', '8.3', '8.3', '8.3', '8.1', '7.9', '8.3', '8.8', '8.7', '8.7'], ['8.1', '7.5', '8.0', '7.6', '8.9', '7.9', '7.9', '9.0', '8.9', '7.8', '8.4', '8.0', '8.7', '8.6', '7.8', '8.1', '8.1', '7.9', '7.5', '8.5'], ['8.5', '8.4', '7.5', '8.7', '8.2', '7.9', '7.6', '7.9', '9.1', '8.2', '8.0', '8.5', '8.4', '8.2', '8.2', '7.6', '8.2', '7.4', '8.3', '7.5', '8.6', '8.1', '7.5', '8.6'], ['8.4', '8.0', '8.2', '7.8', '7.6', '7.6', '7.6', '9.3', '7.8', '8.0', '7.7', '9.0', '8.5', '8.7', '7.9', '7.6', '8.2', '8.1', '7.5', '7.7', '7.6', '8.1', '7.9', '8.3'], ['8.0', '8.2', '7.6', '8.5', '7.6', '7.6', '7.5', '8.0', '8.4', '9.0', '7.8', '8.1', '8.9', '8.6', '8.7', '7.9', '7.5', '8.1', '8.2', '7.5', '7.8', '7.7', '7.6', '8.4'], ['8.4', '7.9', '8.8', '7.9', '7.3', '7.6', '7.6', '7.2', '8.2', '8.9', '7.8', '8.7', '7.7', '7.5', '7.3', '7.9', '8.3', '7.8', '8.5', '8.5', '7.8', '7.6', '8.4', '8.7'], ['8.4', '7.3', '7.2', '7.4', '7.3', '7.4', '7.2', '7.3', '7.3', '7.9', '8.4', '9.3', '7.7', '7.7', '8.1', '7.4', '7.7', '7.9', '7.8', '8.3', '7.2', '8.7', '7.4', '8.7'], ['7.7', '7.6', '7.4', '7.2', '7.1', '7.3', '7.2', '7.1', '8.1', '6.6', '5.8', '7.6', '8.1', '5.9', '8.2', '9.5', '8.1', '7.9', '7.5', '8.3', '8.1', '8.8', '6.7', '5.5']], 'https://m.media-amazon.com/images/M/MV5BNjg1MDQ5MjQ2N15BMl5BanBnXkFtZTYwNjI5NjA3._V1_QL75_UY281_CR10,0,190,281_.jpg', 'Annenizle Nasıl Tanıştım', ' ⭐ 8.3/10']\n",
      "INFO:     127.0.0.1:54872 - \"GET /item/how%20i%20meet%20your%20mother HTTP/1.1\" 200 OK\n"
     ]
    },
    {
     "name": "stderr",
     "output_type": "stream",
     "text": [
      "INFO:     Shutting down\n",
      "INFO:     Waiting for application shutdown.\n",
      "INFO:     Application shutdown complete.\n",
      "INFO:     Finished server process [7588]\n"
     ]
    }
   ],
   "execution_count": 1
  },
  {
   "metadata": {},
   "cell_type": "code",
   "source": "",
   "outputs": [],
   "execution_count": null
  }
 ],
 "metadata": {
  "kernelspec": {
   "display_name": "Python 3",
   "language": "python",
   "name": "python3"
  },
  "language_info": {
   "codemirror_mode": {
    "name": "ipython",
    "version": 3
   },
   "file_extension": ".py",
   "mimetype": "text/x-python",
   "name": "python",
   "nbconvert_exporter": "python",
   "pygments_lexer": "ipython3",
   "version": "3.12.1"
  }
 },
 "nbformat": 4,
 "nbformat_minor": 2
}
